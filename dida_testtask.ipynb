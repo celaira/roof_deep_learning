{
  "nbformat": 4,
  "nbformat_minor": 0,
  "metadata": {
    "colab": {
      "provenance": [],
      "authorship_tag": "ABX9TyMaCUJXCXLo+IdtOpKNHFkL",
      "include_colab_link": true
    },
    "kernelspec": {
      "name": "python3",
      "display_name": "Python 3"
    },
    "language_info": {
      "name": "python"
    }
  },
  "cells": [
    {
      "cell_type": "markdown",
      "metadata": {
        "id": "view-in-github",
        "colab_type": "text"
      },
      "source": [
        "<a href=\"https://colab.research.google.com/github/celaira/roof_deep_learning/blob/main/dida_testtask.ipynb\" target=\"_parent\"><img src=\"https://colab.research.google.com/assets/colab-badge.svg\" alt=\"Open In Colab\"/></a>"
      ]
    },
    {
      "cell_type": "markdown",
      "source": [
        "mount google drive:"
      ],
      "metadata": {
        "id": "rJMyJrHot4J6"
      }
    },
    {
      "cell_type": "code",
      "source": [
        "from google.colab import drive\n",
        "drive.mount('/content/drive')"
      ],
      "metadata": {
        "id": "XnQnolw4tvrH"
      },
      "execution_count": null,
      "outputs": []
    },
    {
      "cell_type": "markdown",
      "source": [
        "import stuff"
      ],
      "metadata": {
        "id": "OPGsrPc69ld0"
      }
    },
    {
      "cell_type": "code",
      "execution_count": null,
      "metadata": {
        "id": "dZ8y2_wSttKD"
      },
      "outputs": [],
      "source": [
        "#import json\n",
        "import os\n",
        "import cv2 as cv\n",
        "import numpy as np\n",
        "from sklearn.model_selection import train_test_split\n",
        "#from PIL import Image\n",
        "import tensorflow as tf\n",
        "from tensorflow.keras.utils import to_categorical\n",
        "from tensorflow.keras import layers, models\n",
        "#from google.colab.patches import cv2_imshow\n",
        "#from tensorflow.keras.preprocessing.image import ImageDataGenerator\n",
        "#from tensorflow.keras.models import Sequential\n",
        "#from tensorflow.keras.layers import Conv2D, MaxPooling2D, Flatten, Dense, UpSampling2D\n",
        "#from tensorflow.keras.optimizers import Adam\n",
        "#from tensorflow.keras.callbacks import EarlyStopping\n",
        "#import matplotlib.pyplot as plt"
      ]
    },
    {
      "cell_type": "markdown",
      "source": [
        "create path to data:"
      ],
      "metadata": {
        "id": "MB-ZFURR9pPl"
      }
    },
    {
      "cell_type": "code",
      "source": [
        "training_image_path = '/content/drive/MyDrive/training_image'\n",
        "label_path = '/content/drive/MyDrive/label'\n",
        "test_image_path = '/content/drive/MyDrive/test_image'"
      ],
      "metadata": {
        "id": "UCKzdCwE9xJJ"
      },
      "execution_count": null,
      "outputs": []
    },
    {
      "cell_type": "markdown",
      "source": [
        "import the images:"
      ],
      "metadata": {
        "id": "ma3w6Zp_NDnw"
      }
    },
    {
      "cell_type": "code",
      "source": [
        "def load_images_from_folder(folder):\n",
        "    images = []\n",
        "    filenames = sorted(os.listdir(folder))\n",
        "    for filename in filenames:\n",
        "        img = cv.imread(os.path.join(folder, filename))\n",
        "        if img is not None:\n",
        "            images.append(img)\n",
        "    return images\n",
        "\n",
        "train_image = np.array(load_images_from_folder(training_image_path))\n",
        "label = np.array(load_images_from_folder(label_path))\n",
        "test_image = np.array(load_images_from_folder(test_image_path))\n",
        "\n",
        "#normalization\n",
        "train_image = np.array(train_image) / 255.0\n",
        "label = np.array(label) / 255.0\n",
        "test_image = np.array(test_image) / 255.0"
      ],
      "metadata": {
        "id": "KumvKEJMNDzw"
      },
      "execution_count": null,
      "outputs": []
    },
    {
      "cell_type": "markdown",
      "source": [
        "Creating validation for better error-testing:"
      ],
      "metadata": {
        "id": "qD_6Yh2w-TkJ"
      }
    },
    {
      "cell_type": "code",
      "source": [
        "#binarize the labels\n",
        "label = np.where(label > 0.5, 1, 0)\n",
        "\n",
        "#needed for keras -> need to look it up again\n",
        "train_images = train_image[..., np.newaxis]\n",
        "labels = label[..., np.newaxis]\n",
        "test_images = test_image[..., np.newaxis]\n",
        "\n",
        "# split training and validation -> nicht ganz verstanden\n",
        "X_train, X_val, y_train, y_val = train_test_split(train_image, label, test_size=0.2, random_state=42)"
      ],
      "metadata": {
        "id": "LvJUlQB1-A6B"
      },
      "execution_count": null,
      "outputs": []
    },
    {
      "cell_type": "markdown",
      "source": [
        "Define Model:"
      ],
      "metadata": {
        "id": "5POvkJOJAuUC"
      }
    },
    {
      "cell_type": "code",
      "source": [
        "def unet_model(input_shape):\n",
        "    pass"
      ],
      "metadata": {
        "id": "-62pJlhUA0hX"
      },
      "execution_count": null,
      "outputs": []
    },
    {
      "cell_type": "markdown",
      "source": [
        "Train Model:"
      ],
      "metadata": {
        "id": "NCFOdW0ABKp9"
      }
    },
    {
      "cell_type": "code",
      "source": [],
      "metadata": {
        "id": "FgEEjrQwBMTh"
      },
      "execution_count": null,
      "outputs": []
    },
    {
      "cell_type": "markdown",
      "source": [
        "Predictions and Visualization of them :"
      ],
      "metadata": {
        "id": "JEyeCdv3BP5i"
      }
    },
    {
      "cell_type": "code",
      "source": [],
      "metadata": {
        "id": "xhzzOy9yBRkG"
      },
      "execution_count": null,
      "outputs": []
    }
  ]
}